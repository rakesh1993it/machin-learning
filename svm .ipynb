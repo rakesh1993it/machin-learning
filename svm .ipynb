{
 "cells": [
  {
   "cell_type": "markdown",
   "metadata": {},
   "source": [
    "# What is Supervised Learning?\n",
    "\n",
    "In supervised learning, we start with importing dataset containing training attributes and the target attributes. \n",
    "The Supervised Learning algorithm will learn the relation between training examples and their associated target \n",
    "variables and apply that learned relationship to classify entirely new inputs (without targets).\n",
    "\n",
    "The ultimate goal of the Supervised learning algorithm is to predict Y with the maximum accuracy for a given new input X. There are several ways to implement Supervised Learning; we’ll explore some of the most commonly used approaches.\n",
    "\n",
    "Based on the given datasets the machine learning problem is categorised into two types, Classification, and Regression. If the given data has both input (training) values and output (target) values, then it is a Classification problem. If the dataset has continuous numerical values of attributes without any target labels, then it comes under Regression problem.\n",
    "\n",
    "Classification: Has the output label. Is it a Cat or Dog?\n",
    "\n",
    "Regression: How much will the house sell for?\n",
    "\n",
    "#Classification\n",
    "\n",
    "Consider the example of a medical researcher who wants to analyze breast cancer data to predict which one in three specific treatments a patient should receive. This data analysis task is called Classification, where a model or classifier is constructed to predict class labels, such as “treatment A,” “treatment B” or “treatment C.”\n",
    "\n",
    "Classification is a prediction problem that predicts the categorical class labels which are discrete and unordered. It is a two-step process, consisting of a learning step and a classification step.\n",
    "Methods in Classification and choosing the best.\n",
    "\n",
    "Some of the most used classification algorithms\n",
    "\n",
    "    K — Nearest Neighbor\n",
    "    Decision Trees\n",
    "    Naïve Bayes\n",
    "    Support Vector Machines"
   ]
  },
  {
   "cell_type": "markdown",
   "metadata": {},
   "source": [
    "# Implementing KNN in Scikit-Learn on IRIS dataset to classify the type of flower based on the given input.\n",
    "\n",
    "First steps, to apply our machine learning algorithm we need to understand and explore the given dataset. In this example, we use IRIS dataset which is imported from the scikit-learn package. Now let’s dive into Code and explore the IRIS dataset.\n",
    "\n",
    "install the package:\n",
    "\n",
    "pip install pandas\n",
    "\n",
    "pip install matplotlib\n",
    "\n",
    "pip install scikit-learn\n"
   ]
  },
  {
   "cell_type": "code",
   "execution_count": 1,
   "metadata": {},
   "outputs": [
    {
     "name": "stdout",
     "output_type": "stream",
     "text": [
      "<class 'sklearn.utils.Bunch'>\n",
      "dict_keys(['data', 'target', 'target_names', 'DESCR', 'feature_names'])\n",
      "<class 'numpy.ndarray'> <class 'numpy.ndarray'>\n",
      "(150, 4)\n",
      "['setosa' 'versicolor' 'virginica']\n",
      "   sepal length (cm)  sepal width (cm)  petal length (cm)  petal width (cm)\n",
      "0                5.1               3.5                1.4               0.2\n",
      "1                4.9               3.0                1.4               0.2\n",
      "2                4.7               3.2                1.3               0.2\n",
      "3                4.6               3.1                1.5               0.2\n",
      "4                5.0               3.6                1.4               0.2\n"
     ]
    }
   ],
   "source": [
    "from sklearn import datasets\n",
    "import pandas as pd\n",
    "import matplotlib.pyplot as plt\n",
    "\n",
    "# Loading IRIS dataset from scikit-learn object into iris variable.\n",
    "iris = datasets.load_iris()\n",
    "\n",
    "# Prints the type/type object of iris\n",
    "print(type(iris))\n",
    "\n",
    "\n",
    "# prints the dictionary keys of iris data\n",
    "print(iris.keys())\n",
    "\n",
    "# prints the type/type object of given attributes\n",
    "print(type(iris.data), type(iris.target))\n",
    "\n",
    "# prints the no of rows and columns in the dataset\n",
    "print(iris.data.shape)\n",
    "\n",
    "# prints the target set of the data\n",
    "print(iris.target_names)\n",
    "\n",
    "# Load iris training dataset\n",
    "X = iris.data\n",
    "\n",
    "# Load iris target set\n",
    "Y = iris.target\n",
    "\n",
    "# Convert datasets' type into dataframe\n",
    "df = pd.DataFrame(X, columns=iris.feature_names)\n",
    "\n",
    "# Print the first five tuples of dataframe.\n",
    "print(df.head())"
   ]
  },
  {
   "cell_type": "code",
   "execution_count": null,
   "metadata": {
    "collapsed": true
   },
   "outputs": [],
   "source": []
  }
 ],
 "metadata": {
  "kernelspec": {
   "display_name": "Python 3",
   "language": "python",
   "name": "python3"
  },
  "language_info": {
   "codemirror_mode": {
    "name": "ipython",
    "version": 3
   },
   "file_extension": ".py",
   "mimetype": "text/x-python",
   "name": "python",
   "nbconvert_exporter": "python",
   "pygments_lexer": "ipython3",
   "version": "3.6.3"
  }
 },
 "nbformat": 4,
 "nbformat_minor": 2
}
